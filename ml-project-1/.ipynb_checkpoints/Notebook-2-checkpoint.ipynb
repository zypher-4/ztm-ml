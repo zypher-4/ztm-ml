{
 "cells": [
  {
   "cell_type": "markdown",
   "id": "18d57de6-21a1-42e6-83c1-0fbb12f89bd7",
   "metadata": {},
   "source": [
    "## Numpy Section"
   ]
  },
  {
   "cell_type": "code",
   "execution_count": 1,
   "id": "20d14101-b577-442e-92e7-b1524a7264c2",
   "metadata": {},
   "outputs": [],
   "source": [
    "import pandas as pd\n",
    "import numpy as np"
   ]
  },
  {
   "cell_type": "markdown",
   "id": "43ec6ea0-b90d-4c41-bdd3-13532c6449ee",
   "metadata": {
    "jp-MarkdownHeadingCollapsed": true
   },
   "source": [
    "### Data Types & Attributes"
   ]
  },
  {
   "cell_type": "code",
   "execution_count": 124,
   "id": "ab51ee3f-b89a-4726-ab72-a81dbcf5e45c",
   "metadata": {},
   "outputs": [
    {
     "data": {
      "text/plain": [
       "array([1, 2, 3])"
      ]
     },
     "execution_count": 124,
     "metadata": {},
     "output_type": "execute_result"
    }
   ],
   "source": [
    "# NumPy's main datatype is ndarray\n",
    "a1 = np.array([1, 2, 3])\n",
    "a1"
   ]
  },
  {
   "cell_type": "code",
   "execution_count": 8,
   "id": "0cf71f78-6e94-45be-9cf2-ac4f771c60ef",
   "metadata": {},
   "outputs": [
    {
     "data": {
      "text/plain": [
       "numpy.ndarray"
      ]
     },
     "execution_count": 8,
     "metadata": {},
     "output_type": "execute_result"
    }
   ],
   "source": [
    "type(a1)"
   ]
  },
  {
   "cell_type": "code",
   "execution_count": 9,
   "id": "bb5e3eef-d0de-47df-8b93-550452e40763",
   "metadata": {},
   "outputs": [],
   "source": [
    "a2 = np.array([[1, 2, 3],\n",
    "               [4, 5, 6]])\n",
    "\n",
    "a3 = np.array([[[1, 2, 3],\n",
    "                [4, 5, 6],\n",
    "                [7, 8, 9]],\n",
    "               [[10, 11, 12],\n",
    "                [13, 14, 15],\n",
    "                [16, 17, 18]]])"
   ]
  },
  {
   "cell_type": "code",
   "execution_count": 10,
   "id": "0138c18b-9f83-424f-8494-e4afedf395ce",
   "metadata": {},
   "outputs": [
    {
     "data": {
      "text/plain": [
       "array([[1, 2, 3],\n",
       "       [4, 5, 6]])"
      ]
     },
     "execution_count": 10,
     "metadata": {},
     "output_type": "execute_result"
    }
   ],
   "source": [
    "a2"
   ]
  },
  {
   "cell_type": "code",
   "execution_count": 15,
   "id": "485e6d7c-51ad-4f78-a9c5-731518e21b17",
   "metadata": {},
   "outputs": [
    {
     "data": {
      "text/plain": [
       "array([[[ 1,  2,  3],\n",
       "        [ 4,  5,  6],\n",
       "        [ 7,  8,  9]],\n",
       "\n",
       "       [[10, 11, 12],\n",
       "        [13, 14, 15],\n",
       "        [16, 17, 18]]])"
      ]
     },
     "execution_count": 15,
     "metadata": {},
     "output_type": "execute_result"
    }
   ],
   "source": [
    "a3"
   ]
  },
  {
   "cell_type": "code",
   "execution_count": 23,
   "id": "365e20c6-edbc-41a2-8d9b-9db24c7851e7",
   "metadata": {},
   "outputs": [
    {
     "data": {
      "text/plain": [
       "(1, 2, 3)"
      ]
     },
     "execution_count": 23,
     "metadata": {},
     "output_type": "execute_result"
    }
   ],
   "source": [
    "a1.ndim, a2.ndim, a3.ndim"
   ]
  },
  {
   "cell_type": "code",
   "execution_count": 22,
   "id": "93718f3c-9f52-4ddd-9423-0dc952e1d83c",
   "metadata": {},
   "outputs": [
    {
     "data": {
      "text/plain": [
       "(dtype('int32'), dtype('int32'), dtype('int32'))"
      ]
     },
     "execution_count": 22,
     "metadata": {},
     "output_type": "execute_result"
    }
   ],
   "source": [
    "a1.dtype, a2.dtype, a3.dtype"
   ]
  },
  {
   "cell_type": "code",
   "execution_count": 24,
   "id": "dfdf31a1-d9e2-4a4f-b733-6eb99816fe2e",
   "metadata": {},
   "outputs": [
    {
     "data": {
      "text/plain": [
       "(3, 6, 18)"
      ]
     },
     "execution_count": 24,
     "metadata": {},
     "output_type": "execute_result"
    }
   ],
   "source": [
    "a1.size, a2.size, a3.size"
   ]
  },
  {
   "cell_type": "code",
   "execution_count": 29,
   "id": "2d11b939-ab02-4ded-b3e1-6fb8eee992d6",
   "metadata": {},
   "outputs": [
    {
     "data": {
      "text/plain": [
       "(numpy.ndarray, numpy.ndarray, numpy.ndarray)"
      ]
     },
     "execution_count": 29,
     "metadata": {},
     "output_type": "execute_result"
    }
   ],
   "source": [
    "type(a1), type(a2), type(a3)"
   ]
  },
  {
   "cell_type": "code",
   "execution_count": 37,
   "id": "5a948baf-14e8-4cf2-8d93-db8b41211331",
   "metadata": {},
   "outputs": [
    {
     "data": {
      "text/html": [
       "<div>\n",
       "<style scoped>\n",
       "    .dataframe tbody tr th:only-of-type {\n",
       "        vertical-align: middle;\n",
       "    }\n",
       "\n",
       "    .dataframe tbody tr th {\n",
       "        vertical-align: top;\n",
       "    }\n",
       "\n",
       "    .dataframe thead th {\n",
       "        text-align: right;\n",
       "    }\n",
       "</style>\n",
       "<table border=\"1\" class=\"dataframe\">\n",
       "  <thead>\n",
       "    <tr style=\"text-align: right;\">\n",
       "      <th></th>\n",
       "      <th>0</th>\n",
       "      <th>1</th>\n",
       "      <th>2</th>\n",
       "    </tr>\n",
       "  </thead>\n",
       "  <tbody>\n",
       "    <tr>\n",
       "      <th>0</th>\n",
       "      <td>1</td>\n",
       "      <td>2</td>\n",
       "      <td>3</td>\n",
       "    </tr>\n",
       "    <tr>\n",
       "      <th>1</th>\n",
       "      <td>4</td>\n",
       "      <td>5</td>\n",
       "      <td>6</td>\n",
       "    </tr>\n",
       "  </tbody>\n",
       "</table>\n",
       "</div>"
      ],
      "text/plain": [
       "   0  1  2\n",
       "0  1  2  3\n",
       "1  4  5  6"
      ]
     },
     "execution_count": 37,
     "metadata": {},
     "output_type": "execute_result"
    }
   ],
   "source": [
    "# Create a DataFrame from a NumPy array \n",
    "df = pd.DataFrame(a2)\n",
    "df"
   ]
  },
  {
   "cell_type": "markdown",
   "id": "5517f2ab-d50a-4a25-bdf1-e44cd541c3f7",
   "metadata": {
    "jp-MarkdownHeadingCollapsed": true
   },
   "source": [
    "### Create NumPy arrays"
   ]
  },
  {
   "cell_type": "code",
   "execution_count": 39,
   "id": "5af359a5-41b8-4fb4-a040-513a02e3d15c",
   "metadata": {},
   "outputs": [
    {
     "data": {
      "text/plain": [
       "array([1, 2, 3])"
      ]
     },
     "execution_count": 39,
     "metadata": {},
     "output_type": "execute_result"
    }
   ],
   "source": [
    "sample_array = np.array([1, 2, 3])\n",
    "sample_array"
   ]
  },
  {
   "cell_type": "code",
   "execution_count": 40,
   "id": "5c0fcac9-87c2-4347-bb3a-4dc0978e6932",
   "metadata": {},
   "outputs": [
    {
     "data": {
      "text/plain": [
       "dtype('int32')"
      ]
     },
     "execution_count": 40,
     "metadata": {},
     "output_type": "execute_result"
    }
   ],
   "source": [
    "sample_array.dtype"
   ]
  },
  {
   "cell_type": "code",
   "execution_count": 59,
   "id": "4a43f9e3-1532-4a13-9895-02448ce6b348",
   "metadata": {},
   "outputs": [
    {
     "data": {
      "text/plain": [
       "(array([[1., 1., 1.],\n",
       "        [1., 1., 1.]]),\n",
       " array([[0., 0., 0.],\n",
       "        [0., 0., 0.]]))"
      ]
     },
     "execution_count": 59,
     "metadata": {},
     "output_type": "execute_result"
    }
   ],
   "source": [
    "ones = np.ones((2,3))\n",
    "zeros = np.zeros((2,3))\n",
    "ones, zeros"
   ]
  },
  {
   "cell_type": "code",
   "execution_count": 60,
   "id": "e34d7512-1fd4-46fe-a6d5-9ce84bf513bc",
   "metadata": {},
   "outputs": [
    {
     "data": {
      "text/plain": [
       "array([0, 2, 4, 6, 8])"
      ]
     },
     "execution_count": 60,
     "metadata": {},
     "output_type": "execute_result"
    }
   ],
   "source": [
    "range_array = np.arange(0, 10, 2)\n",
    "range_array"
   ]
  },
  {
   "cell_type": "code",
   "execution_count": 77,
   "id": "3687ead4-8fe4-4705-b37b-e8548edfcf12",
   "metadata": {},
   "outputs": [
    {
     "data": {
      "text/plain": [
       "array([[4, 8, 3, 1, 4],\n",
       "       [5, 1, 9, 9, 2],\n",
       "       [1, 8, 6, 7, 5]])"
      ]
     },
     "execution_count": 77,
     "metadata": {},
     "output_type": "execute_result"
    }
   ],
   "source": [
    "random_array = np.random.randint(0, 10, (3, 5))\n",
    "random_array"
   ]
  },
  {
   "cell_type": "code",
   "execution_count": 72,
   "id": "8d952900-8b3c-4a1a-868a-5715cad1417d",
   "metadata": {},
   "outputs": [
    {
     "data": {
      "text/plain": [
       "array([[0.00646762, 0.4477953 , 0.81102435],\n",
       "       [0.30836775, 0.60312211, 0.26667629],\n",
       "       [0.58142944, 0.51446991, 0.71631487],\n",
       "       [0.62898805, 0.11336812, 0.8539299 ],\n",
       "       [0.91786219, 0.00821483, 0.18520323]])"
      ]
     },
     "execution_count": 72,
     "metadata": {},
     "output_type": "execute_result"
    }
   ],
   "source": [
    "random_array_2 = np.random.random((5, 3))\n",
    "random_array_2"
   ]
  },
  {
   "cell_type": "code",
   "execution_count": 74,
   "id": "24ea9c9c-8f67-499a-8e21-7ae9289e7e3f",
   "metadata": {},
   "outputs": [
    {
     "data": {
      "text/plain": [
       "array([[0.6432832 , 0.44559663, 0.27023238],\n",
       "       [0.87457404, 0.56435021, 0.63221069],\n",
       "       [0.0043699 , 0.16307489, 0.77189032],\n",
       "       [0.22810367, 0.58193927, 0.63613924],\n",
       "       [0.35959342, 0.84002292, 0.42492773]])"
      ]
     },
     "execution_count": 74,
     "metadata": {},
     "output_type": "execute_result"
    }
   ],
   "source": [
    "random_array_3 = np.random.rand(5, 3)\n",
    "random_array_3"
   ]
  },
  {
   "cell_type": "code",
   "execution_count": 131,
   "id": "5f917d9b-4a44-459e-a4da-a537b4c9bdf1",
   "metadata": {},
   "outputs": [
    {
     "data": {
      "text/plain": [
       "array([[0, 3, 1],\n",
       "       [8, 1, 3],\n",
       "       [8, 5, 6],\n",
       "       [0, 6, 0],\n",
       "       [4, 0, 9]])"
      ]
     },
     "execution_count": 131,
     "metadata": {},
     "output_type": "execute_result"
    }
   ],
   "source": [
    "# Pseudo-random numbers\n",
    "np.random.seed(99999)\n",
    "\n",
    "random_array_4 = np.random.randint(10, size = (5,3))\n",
    "random_array_4"
   ]
  },
  {
   "cell_type": "code",
   "execution_count": 127,
   "id": "fe3d2c1a-f63c-48c7-ac7c-4a143b05c613",
   "metadata": {},
   "outputs": [
    {
     "data": {
      "text/plain": [
       "array([[0.07630829, 0.77991879, 0.43840923],\n",
       "       [0.72346518, 0.97798951, 0.53849587],\n",
       "       [0.50112046, 0.07205113, 0.26843898],\n",
       "       [0.4998825 , 0.67923   , 0.80373904],\n",
       "       [0.38094113, 0.06593635, 0.2881456 ]])"
      ]
     },
     "execution_count": 127,
     "metadata": {},
     "output_type": "execute_result"
    }
   ],
   "source": [
    "np.random.seed(7)\n",
    "random_array_5 = np.random.random((5,3))\n",
    "random_array_5"
   ]
  },
  {
   "cell_type": "code",
   "execution_count": 128,
   "id": "ed33d188-1e1b-4a53-b94e-42efddecbd33",
   "metadata": {},
   "outputs": [
    {
     "data": {
      "text/plain": [
       "array([[0.90959353, 0.21338535, 0.45212396],\n",
       "       [0.93120602, 0.02489923, 0.60054892],\n",
       "       [0.9501295 , 0.23030288, 0.54848992],\n",
       "       [0.90912837, 0.13316945, 0.52341258],\n",
       "       [0.75040986, 0.66901324, 0.46775286]])"
      ]
     },
     "execution_count": 128,
     "metadata": {},
     "output_type": "execute_result"
    }
   ],
   "source": [
    "random_array_5 = np.random.random((5,3))\n",
    "random_array_5"
   ]
  },
  {
   "cell_type": "markdown",
   "id": "73ddec3b-2b56-4904-871d-c7f4e05f0696",
   "metadata": {
    "jp-MarkdownHeadingCollapsed": true
   },
   "source": [
    "### Viewing arrays and matrices"
   ]
  },
  {
   "cell_type": "code",
   "execution_count": 132,
   "id": "585ae178-6568-4cc0-a98e-4b63007aec9d",
   "metadata": {},
   "outputs": [
    {
     "data": {
      "text/plain": [
       "array([0, 1, 3, 4, 5, 6, 8, 9])"
      ]
     },
     "execution_count": 132,
     "metadata": {},
     "output_type": "execute_result"
    }
   ],
   "source": [
    "np.unique(random_array_4)"
   ]
  },
  {
   "cell_type": "code",
   "execution_count": 137,
   "id": "af0a3c78-0aa7-4982-81f3-18e9fa8698ab",
   "metadata": {},
   "outputs": [
    {
     "data": {
      "text/plain": [
       "array([1, 2, 3])"
      ]
     },
     "execution_count": 137,
     "metadata": {},
     "output_type": "execute_result"
    }
   ],
   "source": [
    "a1"
   ]
  },
  {
   "cell_type": "code",
   "execution_count": 134,
   "id": "7763b215-ae1c-473d-bc05-5f1289c7e44f",
   "metadata": {},
   "outputs": [
    {
     "data": {
      "text/plain": [
       "array([[1, 2, 3],\n",
       "       [4, 5, 6]])"
      ]
     },
     "execution_count": 134,
     "metadata": {},
     "output_type": "execute_result"
    }
   ],
   "source": [
    "a2"
   ]
  },
  {
   "cell_type": "code",
   "execution_count": 135,
   "id": "89a0761c-a117-4f1f-b295-5ae2409e1051",
   "metadata": {},
   "outputs": [
    {
     "data": {
      "text/plain": [
       "array([[[ 1,  2,  3],\n",
       "        [ 4,  5,  6],\n",
       "        [ 7,  8,  9]],\n",
       "\n",
       "       [[10, 11, 12],\n",
       "        [13, 14, 15],\n",
       "        [16, 17, 18]]])"
      ]
     },
     "execution_count": 135,
     "metadata": {},
     "output_type": "execute_result"
    }
   ],
   "source": [
    "a3"
   ]
  },
  {
   "cell_type": "code",
   "execution_count": 138,
   "id": "24b283fe-0110-4703-8d90-e673cf200cf0",
   "metadata": {},
   "outputs": [
    {
     "data": {
      "text/plain": [
       "array([[[[2, 0, 0, 5, 0],\n",
       "         [0, 8, 1, 0, 9],\n",
       "         [7, 1, 8, 9, 5],\n",
       "         [8, 3, 4, 2, 1]],\n",
       "\n",
       "        [[5, 5, 8, 3, 4],\n",
       "         [6, 9, 6, 9, 4],\n",
       "         [6, 5, 5, 8, 8],\n",
       "         [7, 4, 0, 9, 2]],\n",
       "\n",
       "        [[0, 7, 2, 8, 1],\n",
       "         [2, 9, 4, 4, 4],\n",
       "         [3, 3, 4, 1, 0],\n",
       "         [1, 3, 0, 5, 8]]],\n",
       "\n",
       "\n",
       "       [[[7, 7, 5, 4, 6],\n",
       "         [8, 7, 6, 4, 7],\n",
       "         [4, 4, 4, 2, 5],\n",
       "         [7, 2, 2, 0, 8]],\n",
       "\n",
       "        [[1, 5, 5, 5, 6],\n",
       "         [9, 0, 7, 7, 6],\n",
       "         [2, 5, 0, 9, 1],\n",
       "         [0, 6, 9, 9, 3]],\n",
       "\n",
       "        [[2, 3, 2, 4, 0],\n",
       "         [6, 0, 2, 0, 6],\n",
       "         [9, 5, 4, 1, 7],\n",
       "         [5, 7, 8, 2, 7]]]])"
      ]
     },
     "execution_count": 138,
     "metadata": {},
     "output_type": "execute_result"
    }
   ],
   "source": [
    "a4 = np.random.randint(10, size = (2, 3, 4, 5))\n",
    "a4"
   ]
  },
  {
   "cell_type": "code",
   "execution_count": 139,
   "id": "c5c382ce-5c84-47b7-8023-0ee527ef8625",
   "metadata": {},
   "outputs": [
    {
     "data": {
      "text/plain": [
       "((2, 3, 4, 5), 4)"
      ]
     },
     "execution_count": 139,
     "metadata": {},
     "output_type": "execute_result"
    }
   ],
   "source": [
    "a4.shape, a4.ndim"
   ]
  },
  {
   "cell_type": "code",
   "execution_count": 157,
   "id": "feeebc0d-cc99-4ad2-a8de-5a90dd8a6817",
   "metadata": {},
   "outputs": [
    {
     "data": {
      "text/plain": [
       "array([[[2, 3, 2, 4]]])"
      ]
     },
     "execution_count": 157,
     "metadata": {},
     "output_type": "execute_result"
    }
   ],
   "source": [
    "a4[1:, 2:, 0, :4]"
   ]
  },
  {
   "cell_type": "markdown",
   "id": "6bf9fff0-9921-411d-8766-cc016fa595dc",
   "metadata": {
    "jp-MarkdownHeadingCollapsed": true
   },
   "source": [
    "### Manipulate data"
   ]
  },
  {
   "cell_type": "code",
   "execution_count": 2,
   "id": "1c48ac59-8baa-4d92-b302-389ae2b06d20",
   "metadata": {},
   "outputs": [
    {
     "data": {
      "text/plain": [
       "array([1, 2, 3])"
      ]
     },
     "execution_count": 2,
     "metadata": {},
     "output_type": "execute_result"
    }
   ],
   "source": [
    "# Arithmetic \n",
    "\n",
    "a1 = np.array([1, 2, 3])\n",
    "a1"
   ]
  },
  {
   "cell_type": "code",
   "execution_count": 3,
   "id": "f9a94dad-474f-4f35-9136-2dac00871d50",
   "metadata": {},
   "outputs": [
    {
     "data": {
      "text/plain": [
       "array([0., 0., 0.])"
      ]
     },
     "execution_count": 3,
     "metadata": {},
     "output_type": "execute_result"
    }
   ],
   "source": [
    "ones = np.ones(3)\n",
    "ones\n",
    "zeros = np.zeros(3)\n",
    "zeros"
   ]
  },
  {
   "cell_type": "code",
   "execution_count": 4,
   "id": "5ea89095-d934-45bc-bf1c-06af08ca0659",
   "metadata": {},
   "outputs": [
    {
     "data": {
      "text/plain": [
       "array([2., 3., 4.])"
      ]
     },
     "execution_count": 4,
     "metadata": {},
     "output_type": "execute_result"
    }
   ],
   "source": [
    "a1 + ones"
   ]
  },
  {
   "cell_type": "code",
   "execution_count": 5,
   "id": "54044f39-2d10-4ac0-bc4a-03a97f9ef536",
   "metadata": {},
   "outputs": [
    {
     "data": {
      "text/plain": [
       "array([0., 1., 2.])"
      ]
     },
     "execution_count": 5,
     "metadata": {},
     "output_type": "execute_result"
    }
   ],
   "source": [
    "a1 - ones"
   ]
  },
  {
   "cell_type": "code",
   "execution_count": 6,
   "id": "45d49ba5-eb2a-4d15-91fb-73abf1a501eb",
   "metadata": {},
   "outputs": [
    {
     "data": {
      "text/plain": [
       "array([0., 0., 0.])"
      ]
     },
     "execution_count": 6,
     "metadata": {},
     "output_type": "execute_result"
    }
   ],
   "source": [
    "a1 * zeros"
   ]
  },
  {
   "cell_type": "code",
   "execution_count": 7,
   "id": "b26eb0a7-2fd6-4fb9-bf7f-6b0e150d6273",
   "metadata": {},
   "outputs": [
    {
     "data": {
      "text/plain": [
       "array([[1, 2, 3],\n",
       "       [4, 5, 6]])"
      ]
     },
     "execution_count": 7,
     "metadata": {},
     "output_type": "execute_result"
    }
   ],
   "source": [
    "a2 = np.array([[1, 2, 3],\n",
    "               [4, 5, 6]])\n",
    "a2"
   ]
  },
  {
   "cell_type": "code",
   "execution_count": 8,
   "id": "f8c9f17a-91d2-4d61-9e7e-bd46d929dc1d",
   "metadata": {},
   "outputs": [
    {
     "data": {
      "text/plain": [
       "array([[ 1,  4,  9],\n",
       "       [ 4, 10, 18]])"
      ]
     },
     "execution_count": 8,
     "metadata": {},
     "output_type": "execute_result"
    }
   ],
   "source": [
    "a1 * a2"
   ]
  },
  {
   "cell_type": "code",
   "execution_count": 9,
   "id": "96297c37-1fa0-4e24-b05e-c286435dbc54",
   "metadata": {},
   "outputs": [
    {
     "data": {
      "text/plain": [
       "array([[[  1,   4,   9],\n",
       "        [  4,  10,  18],\n",
       "        [  7,  16,  27]],\n",
       "\n",
       "       [[ 40,  55,  72],\n",
       "        [ 52,  70,  90],\n",
       "        [ 64,  85, 108]]])"
      ]
     },
     "execution_count": 9,
     "metadata": {},
     "output_type": "execute_result"
    }
   ],
   "source": [
    "a3 = np.array([[[1, 2, 3],\n",
    "                [4, 5, 6],\n",
    "                [7, 8, 9]],\n",
    "               [[10, 11, 12],\n",
    "                [13, 14, 15],\n",
    "                [16, 17, 18]]])\n",
    "a2_reshape = a2.reshape(2, 1, 3)\n",
    "a2_reshape * a3"
   ]
  },
  {
   "cell_type": "code",
   "execution_count": 10,
   "id": "851f60d5-4d39-4ddf-8852-456132721aa1",
   "metadata": {},
   "outputs": [
    {
     "data": {
      "text/plain": [
       "array([1., 2., 3.])"
      ]
     },
     "execution_count": 10,
     "metadata": {},
     "output_type": "execute_result"
    }
   ],
   "source": [
    "a1 / ones"
   ]
  },
  {
   "cell_type": "code",
   "execution_count": 11,
   "id": "1ae68f75-971d-4e69-904b-2e7d11892c3d",
   "metadata": {},
   "outputs": [
    {
     "data": {
      "text/plain": [
       "array([[1. , 1. , 1. ],\n",
       "       [4. , 2.5, 2. ]])"
      ]
     },
     "execution_count": 11,
     "metadata": {},
     "output_type": "execute_result"
    }
   ],
   "source": [
    "a2 / a1"
   ]
  },
  {
   "cell_type": "code",
   "execution_count": 12,
   "id": "acf6013e-9547-45f7-932a-c13e22667b2a",
   "metadata": {},
   "outputs": [
    {
     "data": {
      "text/plain": [
       "array([[1, 1, 1],\n",
       "       [4, 2, 2]])"
      ]
     },
     "execution_count": 12,
     "metadata": {},
     "output_type": "execute_result"
    }
   ],
   "source": [
    "a2 // a1"
   ]
  },
  {
   "cell_type": "code",
   "execution_count": 13,
   "id": "cc5c3529-9cdb-4eb5-bfdf-b7aeb9e01548",
   "metadata": {},
   "outputs": [
    {
     "data": {
      "text/plain": [
       "array([[  1,   4,  27],\n",
       "       [  4,  25, 216]])"
      ]
     },
     "execution_count": 13,
     "metadata": {},
     "output_type": "execute_result"
    }
   ],
   "source": [
    "a2 ** a1"
   ]
  },
  {
   "cell_type": "code",
   "execution_count": 14,
   "id": "9ba3fda5-183f-4bd8-8c73-15e31f5ce121",
   "metadata": {},
   "outputs": [
    {
     "data": {
      "text/plain": [
       "array([[ 1,  4,  9],\n",
       "       [16, 25, 36]])"
      ]
     },
     "execution_count": 14,
     "metadata": {},
     "output_type": "execute_result"
    }
   ],
   "source": [
    "np.square(a2)"
   ]
  },
  {
   "cell_type": "code",
   "execution_count": 15,
   "id": "d58d88cb-3c99-4e08-934a-aae1f1fcac50",
   "metadata": {},
   "outputs": [
    {
     "data": {
      "text/plain": [
       "list"
      ]
     },
     "execution_count": 15,
     "metadata": {},
     "output_type": "execute_result"
    }
   ],
   "source": [
    "# Aggregation\n",
    "\n",
    "listy_list = [1, 2, 3]\n",
    "type(listy_list)"
   ]
  },
  {
   "cell_type": "code",
   "execution_count": 16,
   "id": "f91a23b7-2710-49ec-adfb-0b4ea19aac0d",
   "metadata": {},
   "outputs": [
    {
     "data": {
      "text/plain": [
       "6"
      ]
     },
     "execution_count": 16,
     "metadata": {},
     "output_type": "execute_result"
    }
   ],
   "source": [
    "sum(a1)"
   ]
  },
  {
   "cell_type": "code",
   "execution_count": 17,
   "id": "82216bf7-27f4-46ee-8887-e9a8aa7808c1",
   "metadata": {},
   "outputs": [
    {
     "data": {
      "text/plain": [
       "6"
      ]
     },
     "execution_count": 17,
     "metadata": {},
     "output_type": "execute_result"
    }
   ],
   "source": [
    "np.sum(a1)"
   ]
  },
  {
   "cell_type": "code",
   "execution_count": 18,
   "id": "c3e1ed01-8e3e-4dba-8227-3f6d12d695a4",
   "metadata": {},
   "outputs": [
    {
     "data": {
      "text/plain": [
       "array([6, 4, 3, ..., 6, 8, 6])"
      ]
     },
     "execution_count": 18,
     "metadata": {},
     "output_type": "execute_result"
    }
   ],
   "source": [
    "massive_array = np.random.randint(0, 10, 100000)\n",
    "massive_array"
   ]
  },
  {
   "cell_type": "code",
   "execution_count": 19,
   "id": "c40639bc-c021-495b-80ba-a8b2d982173f",
   "metadata": {},
   "outputs": [
    {
     "name": "stdout",
     "output_type": "stream",
     "text": [
      "6.36 ms ± 39.9 μs per loop (mean ± std. dev. of 7 runs, 100 loops each)\n",
      "28.3 μs ± 603 ns per loop (mean ± std. dev. of 7 runs, 10,000 loops each)\n"
     ]
    }
   ],
   "source": [
    "%timeit sum(massive_array)\n",
    "%timeit np.sum(massive_array)   "
   ]
  },
  {
   "cell_type": "code",
   "execution_count": 20,
   "id": "8b38bfbd-1724-45a3-98c6-50635c5fec6e",
   "metadata": {},
   "outputs": [
    {
     "data": {
      "text/plain": [
       "(3.5, 1, 6, 1.707825127659933, 2.9166666666666665)"
      ]
     },
     "execution_count": 20,
     "metadata": {},
     "output_type": "execute_result"
    }
   ],
   "source": [
    "np.mean(a2), np.min(a2), np.max(a2), np.std(a2), np.var(a2)"
   ]
  },
  {
   "cell_type": "code",
   "execution_count": 21,
   "id": "5d8a8b20-aacf-47b0-a5e3-949166db8f4d",
   "metadata": {},
   "outputs": [
    {
     "data": {
      "text/plain": [
       "(4296133.472222221, 8.0)"
      ]
     },
     "execution_count": 21,
     "metadata": {},
     "output_type": "execute_result"
    }
   ],
   "source": [
    "# Demo of std and var\n",
    "high_var_array= np.array([1, 100, 200, 300, 4000, 5000])\n",
    "low_var_array = np.array([2, 4, 6, 8, 10])\n",
    "\n",
    "np.var(high_var_array), np.var(low_var_array)"
   ]
  },
  {
   "cell_type": "code",
   "execution_count": 22,
   "id": "e8177cf3-cad0-4f82-928a-9ab80cd8e2f5",
   "metadata": {},
   "outputs": [
    {
     "data": {
      "text/plain": [
       "(2072.711623024829, 2.8284271247461903)"
      ]
     },
     "execution_count": 22,
     "metadata": {},
     "output_type": "execute_result"
    }
   ],
   "source": [
    "np.std(high_var_array), np.std(low_var_array)"
   ]
  },
  {
   "cell_type": "code",
   "execution_count": 23,
   "id": "ebb2fb41-49ae-42ca-98b0-399d6aa64c90",
   "metadata": {},
   "outputs": [
    {
     "data": {
      "text/plain": [
       "(1600.1666666666667, 6.0)"
      ]
     },
     "execution_count": 23,
     "metadata": {},
     "output_type": "execute_result"
    }
   ],
   "source": [
    "np.mean(high_var_array), np.mean(low_var_array)"
   ]
  },
  {
   "cell_type": "code",
   "execution_count": 24,
   "id": "18468a1e-ec09-42e6-bd1a-969e8d2171d5",
   "metadata": {},
   "outputs": [
    {
     "data": {
      "image/png": "[encoded data removed]",
      "text/plain": [
       "<Figure size 640x480 with 1 Axes>"
      ]
     },
     "metadata": {},
     "output_type": "display_data"
    }
   ],
   "source": [
    "%matplotlib inline\n",
    "import matplotlib.pyplot as plt\n",
    "plt.hist(high_var_array)\n",
    "plt.show()"
   ]
  },
  {
   "cell_type": "code",
   "execution_count": 25,
   "id": "a83eed06-f2d8-4094-af61-2d53b0284621",
   "metadata": {},
   "outputs": [
    {
     "data": {
      "image/png": "[encoded data removed]",
      "text/plain": [
       "<Figure size 640x480 with 1 Axes>"
      ]
     },
     "metadata": {},
     "output_type": "display_data"
    }
   ],
   "source": [
    "plt.hist(low_var_array)\n",
    "plt.show()"
   ]
  },
  {
   "cell_type": "markdown",
   "id": "da83ff41-a2ab-4a30-bc13-0af47c4042ad",
   "metadata": {
    "jp-MarkdownHeadingCollapsed": true
   },
   "source": [
    "### Reshape & transposing"
   ]
  },
  {
   "cell_type": "code",
   "execution_count": 26,
   "id": "64e5c651-6280-4a5d-837d-cef0cafa5bc0",
   "metadata": {},
   "outputs": [
    {
     "data": {
      "text/plain": [
       "array([[1, 2, 3],\n",
       "       [4, 5, 6]])"
      ]
     },
     "execution_count": 26,
     "metadata": {},
     "output_type": "execute_result"
    }
   ],
   "source": [
    "a2"
   ]
  },
  {
   "cell_type": "code",
   "execution_count": 27,
   "id": "cf369232-8f85-4bbf-83bf-69ddd706d4bc",
   "metadata": {},
   "outputs": [
    {
     "data": {
      "text/plain": [
       "array([[[ 1,  2,  3],\n",
       "        [ 4,  5,  6],\n",
       "        [ 7,  8,  9]],\n",
       "\n",
       "       [[10, 11, 12],\n",
       "        [13, 14, 15],\n",
       "        [16, 17, 18]]])"
      ]
     },
     "execution_count": 27,
     "metadata": {},
     "output_type": "execute_result"
    }
   ],
   "source": [
    "a3"
   ]
  },
  {
   "cell_type": "code",
   "execution_count": 32,
   "id": "3f380682-090c-4233-a54b-0cd0a384bc7a",
   "metadata": {},
   "outputs": [
    {
     "data": {
      "text/plain": [
       "array([[[1, 2, 3]],\n",
       "\n",
       "       [[4, 5, 6]]])"
      ]
     },
     "execution_count": 32,
     "metadata": {},
     "output_type": "execute_result"
    }
   ],
   "source": [
    "a2_reshape = a2.reshape(2, 1, 3)\n",
    "a2_reshape "
   ]
  },
  {
   "cell_type": "code",
   "execution_count": 38,
   "id": "eac8b10d-3ce6-4fd9-b2f4-58914db19fb3",
   "metadata": {},
   "outputs": [
    {
     "data": {
      "text/plain": [
       "((2, 3), (3, 2))"
      ]
     },
     "execution_count": 38,
     "metadata": {},
     "output_type": "execute_result"
    }
   ],
   "source": [
    "# Transpose\n",
    "a2.shape, a2.T.shape"
   ]
  },
  {
   "cell_type": "code",
   "execution_count": 42,
   "id": "9ec69e0a-8fd8-4407-8f75-21c79d925cdb",
   "metadata": {},
   "outputs": [
    {
     "data": {
      "text/plain": [
       "(2, 3, 3)"
      ]
     },
     "execution_count": 42,
     "metadata": {},
     "output_type": "execute_result"
    }
   ],
   "source": [
    "a3.shape"
   ]
  },
  {
   "cell_type": "code",
   "execution_count": 43,
   "id": "550b54f8-db61-477b-8a2f-a46436baaabd",
   "metadata": {},
   "outputs": [
    {
     "data": {
      "text/plain": [
       "array([[[ 1,  2,  3],\n",
       "        [ 4,  5,  6],\n",
       "        [ 7,  8,  9]],\n",
       "\n",
       "       [[10, 11, 12],\n",
       "        [13, 14, 15],\n",
       "        [16, 17, 18]]])"
      ]
     },
     "execution_count": 43,
     "metadata": {},
     "output_type": "execute_result"
    }
   ],
   "source": [
    "a3"
   ]
  },
  {
   "cell_type": "code",
   "execution_count": 54,
   "id": "ac6a3890-63ca-4e37-9c3a-05bd229c4dd7",
   "metadata": {},
   "outputs": [
    {
     "data": {
      "text/plain": [
       "array([[1, 2, 3],\n",
       "       [4, 5, 6]])"
      ]
     },
     "execution_count": 54,
     "metadata": {},
     "output_type": "execute_result"
    }
   ],
   "source": [
    "a2"
   ]
  },
  {
   "cell_type": "markdown",
   "id": "bbde7f86-6cb6-4235-82e8-b97b5e6c9c25",
   "metadata": {
    "jp-MarkdownHeadingCollapsed": true
   },
   "source": [
    "### Dot product"
   ]
  },
  {
   "cell_type": "code",
   "execution_count": 67,
   "id": "a7336682-4ea2-4c1f-857a-52a98f7230d4",
   "metadata": {},
   "outputs": [
    {
     "data": {
      "text/plain": [
       "(array([[5, 0, 3],\n",
       "        [3, 7, 9],\n",
       "        [3, 5, 2],\n",
       "        [4, 7, 6],\n",
       "        [8, 8, 1]]),\n",
       " array([[6, 7, 7],\n",
       "        [8, 1, 5],\n",
       "        [9, 8, 9],\n",
       "        [4, 3, 0],\n",
       "        [3, 5, 0]]))"
      ]
     },
     "execution_count": 67,
     "metadata": {},
     "output_type": "execute_result"
    }
   ],
   "source": [
    "np.random.seed(0)\n",
    "mat1 = np.random.randint(10, size = (5, 3))\n",
    "mat2 = np.random.randint(10, size = (5, 3))\n",
    "\n",
    "mat1, mat2"
   ]
  },
  {
   "cell_type": "code",
   "execution_count": 68,
   "id": "c119da48-2290-41a1-a0da-d074948d99fe",
   "metadata": {},
   "outputs": [
    {
     "name": "stdout",
     "output_type": "stream",
     "text": [
      "465 ns ± 4.87 ns per loop (mean ± std. dev. of 7 runs, 1,000,000 loops each)\n",
      "495 ns ± 3.34 ns per loop (mean ± std. dev. of 7 runs, 1,000,000 loops each)\n"
     ]
    }
   ],
   "source": [
    "# Element-wise mutiplication\n",
    "%timeit mat1 * mat2\n",
    "%timeit np.multiply(mat1, mat2)"
   ]
  },
  {
   "cell_type": "code",
   "execution_count": 70,
   "id": "e1c80609-8924-4d9f-bf4b-bba82866cb46",
   "metadata": {},
   "outputs": [
    {
     "data": {
      "text/plain": [
       "array([[121, 114,  77],\n",
       "       [153, 108,  80],\n",
       "       [135,  69,  84]])"
      ]
     },
     "execution_count": 70,
     "metadata": {},
     "output_type": "execute_result"
    }
   ],
   "source": [
    "np.dot(mat1.T, mat2)"
   ]
  },
  {
   "cell_type": "code",
   "execution_count": 71,
   "id": "2ff31b2a-88be-4593-81bc-9d68e27c30bf",
   "metadata": {},
   "outputs": [
    {
     "data": {
      "text/plain": [
       "array([[ 51,  55,  72,  20,  15],\n",
       "       [130,  76, 164,  33,  44],\n",
       "       [ 67,  39,  85,  27,  34],\n",
       "       [115,  69, 146,  37,  47],\n",
       "       [111,  77, 145,  56,  64]])"
      ]
     },
     "execution_count": 71,
     "metadata": {},
     "output_type": "execute_result"
    }
   ],
   "source": [
    "np.dot(mat1, mat2.T)"
   ]
  },
  {
   "cell_type": "code",
   "execution_count": 74,
   "id": "64ecdbdc-4e64-4fcc-98db-34aaa3dde1e8",
   "metadata": {},
   "outputs": [
    {
     "data": {
      "text/plain": [
       "array([[1, 0, 0],\n",
       "       [0, 1, 0],\n",
       "       [0, 0, 1]])"
      ]
     },
     "execution_count": 74,
     "metadata": {},
     "output_type": "execute_result"
    }
   ],
   "source": [
    "i = np.array([[1, 0, 0],\n",
    "              [0, 1, 0],\n",
    "              [0, 0, 1]])\n",
    "i"
   ]
  },
  {
   "cell_type": "code",
   "execution_count": 93,
   "id": "15b919d1-6b77-4a3f-a051-b3d63d79b34e",
   "metadata": {},
   "outputs": [
    {
     "data": {
      "text/plain": [
       "(2, 3, 3)"
      ]
     },
     "execution_count": 93,
     "metadata": {},
     "output_type": "execute_result"
    }
   ],
   "source": [
    "np.dot(a3, i).shape"
   ]
  },
  {
   "cell_type": "code",
   "execution_count": 115,
   "id": "0aedf9fa-edce-4c03-97a0-ad21a120ff8c",
   "metadata": {
    "scrolled": true
   },
   "outputs": [
    {
     "data": {
      "text/plain": [
       "(       Almond butter  Peanut butter  Cashew butter\n",
       " Mon               12             15              0\n",
       " Tues               3              3              7\n",
       " Wed                9             19             18\n",
       " Thrus              4              6             12\n",
       " Fri                1              6              7,\n",
       "        Almond butter  Peanut butter  Cashew butter\n",
       " Price             10              8             12)"
      ]
     },
     "execution_count": 115,
     "metadata": {},
     "output_type": "execute_result"
    }
   ],
   "source": [
    "np.random.seed(0)\n",
    "sales_amount = np.random.randint(20, size = (5,3))\n",
    "weekly_sales = pd.DataFrame (sales_amount, index=['Mon', 'Tues', 'Wed', 'Thrus', 'Fri'], columns=['Almond butter', 'Peanut butter', 'Cashew butter'])\n",
    "prices = np.array([10, 8, 12])\n",
    "butter_prices = pd.DataFrame(prices.reshape(1,3), index=['Price'], columns=['Almond butter', 'Peanut butter', 'Cashew butter'])\n",
    "\n",
    "weekly_sales, butter_prices"
   ]
  },
  {
   "cell_type": "code",
   "execution_count": 106,
   "id": "e7457042-6be0-48fd-a74f-c7d83f159b2a",
   "metadata": {},
   "outputs": [
    {
     "data": {
      "text/plain": [
       "array([240, 138, 458, 232, 142])"
      ]
     },
     "execution_count": 106,
     "metadata": {},
     "output_type": "execute_result"
    }
   ],
   "source": [
    "total_sales = prices.dot(sales_amount.T)\n",
    "total_sales"
   ]
  },
  {
   "cell_type": "code",
   "execution_count": 118,
   "id": "234d882c-3706-469e-ad11-a53b87ef7e5b",
   "metadata": {},
   "outputs": [
    {
     "data": {
      "text/html": [
       "<div>\n",
       "<style scoped>\n",
       "    .dataframe tbody tr th:only-of-type {\n",
       "        vertical-align: middle;\n",
       "    }\n",
       "\n",
       "    .dataframe tbody tr th {\n",
       "        vertical-align: top;\n",
       "    }\n",
       "\n",
       "    .dataframe thead th {\n",
       "        text-align: right;\n",
       "    }\n",
       "</style>\n",
       "<table border=\"1\" class=\"dataframe\">\n",
       "  <thead>\n",
       "    <tr style=\"text-align: right;\">\n",
       "      <th></th>\n",
       "      <th>Almond butter</th>\n",
       "      <th>Peanut butter</th>\n",
       "      <th>Cashew butter</th>\n",
       "      <th>Total ($)</th>\n",
       "    </tr>\n",
       "  </thead>\n",
       "  <tbody>\n",
       "    <tr>\n",
       "      <th>Mon</th>\n",
       "      <td>12</td>\n",
       "      <td>15</td>\n",
       "      <td>0</td>\n",
       "      <td>240</td>\n",
       "    </tr>\n",
       "    <tr>\n",
       "      <th>Tues</th>\n",
       "      <td>3</td>\n",
       "      <td>3</td>\n",
       "      <td>7</td>\n",
       "      <td>138</td>\n",
       "    </tr>\n",
       "    <tr>\n",
       "      <th>Wed</th>\n",
       "      <td>9</td>\n",
       "      <td>19</td>\n",
       "      <td>18</td>\n",
       "      <td>458</td>\n",
       "    </tr>\n",
       "    <tr>\n",
       "      <th>Thrus</th>\n",
       "      <td>4</td>\n",
       "      <td>6</td>\n",
       "      <td>12</td>\n",
       "      <td>232</td>\n",
       "    </tr>\n",
       "    <tr>\n",
       "      <th>Fri</th>\n",
       "      <td>1</td>\n",
       "      <td>6</td>\n",
       "      <td>7</td>\n",
       "      <td>142</td>\n",
       "    </tr>\n",
       "  </tbody>\n",
       "</table>\n",
       "</div>"
      ],
      "text/plain": [
       "       Almond butter  Peanut butter  Cashew butter  Total ($)\n",
       "Mon               12             15              0        240\n",
       "Tues               3              3              7        138\n",
       "Wed                9             19             18        458\n",
       "Thrus              4              6             12        232\n",
       "Fri                1              6              7        142"
      ]
     },
     "execution_count": 118,
     "metadata": {},
     "output_type": "execute_result"
    }
   ],
   "source": [
    "weekly_sales['Total sales'] = prices.dot(sales_amount.T)\n",
    "weekly_sales.rename(columns={'Total sales':'Total ($)'}, inplace=True)\n",
    "weekly_sales"
   ]
  },
  {
   "cell_type": "markdown",
   "id": "40c645ff-e85c-4b7f-994c-2d9ecb3dfe52",
   "metadata": {
    "jp-MarkdownHeadingCollapsed": true
   },
   "source": [
    "### Comparison operators"
   ]
  },
  {
   "cell_type": "code",
   "execution_count": 125,
   "id": "11df0b72-daf9-42ba-9497-b68a89d802f7",
   "metadata": {},
   "outputs": [
    {
     "data": {
      "text/plain": [
       "(array([1, 2, 3]),\n",
       " array([[1, 2, 3],\n",
       "        [4, 5, 6]]))"
      ]
     },
     "execution_count": 125,
     "metadata": {},
     "output_type": "execute_result"
    }
   ],
   "source": [
    "a1, a2"
   ]
  },
  {
   "cell_type": "code",
   "execution_count": 128,
   "id": "3b1109fc-e428-49ee-8ca9-f9079a450aa6",
   "metadata": {},
   "outputs": [
    {
     "data": {
      "text/plain": [
       "(array([[False, False, False],\n",
       "        [False, False, False]]),\n",
       " array([[ True,  True,  True],\n",
       "        [False, False, False]]))"
      ]
     },
     "execution_count": 128,
     "metadata": {},
     "output_type": "execute_result"
    }
   ],
   "source": [
    "a1 > a2, a1 >=a2"
   ]
  },
  {
   "cell_type": "code",
   "execution_count": 130,
   "id": "9e1597e4-e5b1-4cb8-9888-17def29ce87b",
   "metadata": {},
   "outputs": [
    {
     "data": {
      "text/plain": [
       "array([ True,  True,  True])"
      ]
     },
     "execution_count": 130,
     "metadata": {},
     "output_type": "execute_result"
    }
   ],
   "source": [
    "a1 < 5"
   ]
  },
  {
   "cell_type": "markdown",
   "id": "eb41b499-39ae-4392-bf96-8743b076fe76",
   "metadata": {
    "jp-MarkdownHeadingCollapsed": true
   },
   "source": [
    "### Sorting arrays"
   ]
  },
  {
   "cell_type": "code",
   "execution_count": 134,
   "id": "d8cedac0-e8e8-4aec-8960-d5b77ad1985b",
   "metadata": {},
   "outputs": [
    {
     "data": {
      "text/plain": [
       "array([[7, 2, 0, 0, 4],\n",
       "       [5, 5, 6, 8, 4],\n",
       "       [1, 4, 9, 8, 1]])"
      ]
     },
     "execution_count": 134,
     "metadata": {},
     "output_type": "execute_result"
    }
   ],
   "source": [
    "random_array = np.random.randint(10, size = (3, 5))\n",
    "random_array"
   ]
  },
  {
   "cell_type": "code",
   "execution_count": 135,
   "id": "b7b6e1af-4616-4e19-9517-5b112a78c641",
   "metadata": {},
   "outputs": [
    {
     "data": {
      "text/plain": [
       "array([[0, 0, 2, 4, 7],\n",
       "       [4, 5, 5, 6, 8],\n",
       "       [1, 1, 4, 8, 9]])"
      ]
     },
     "execution_count": 135,
     "metadata": {},
     "output_type": "execute_result"
    }
   ],
   "source": [
    "np.sort(random_array)"
   ]
  },
  {
   "cell_type": "code",
   "execution_count": 136,
   "id": "7af93c61-c75a-4c85-a4a8-70b9a96496a5",
   "metadata": {},
   "outputs": [
    {
     "data": {
      "text/plain": [
       "array([[2, 3, 1, 4, 0],\n",
       "       [4, 0, 1, 2, 3],\n",
       "       [0, 4, 1, 3, 2]], dtype=int64)"
      ]
     },
     "execution_count": 136,
     "metadata": {},
     "output_type": "execute_result"
    }
   ],
   "source": [
    "np.argsort(random_array)"
   ]
  },
  {
   "cell_type": "code",
   "execution_count": 140,
   "id": "5e874711-d42b-4c2e-8c33-b2dd17c8f472",
   "metadata": {},
   "outputs": [
    {
     "data": {
      "text/plain": [
       "2"
      ]
     },
     "execution_count": 140,
     "metadata": {},
     "output_type": "execute_result"
    }
   ],
   "source": [
    "np.argmin(random_array)"
   ]
  },
  {
   "cell_type": "code",
   "execution_count": 141,
   "id": "e0113066-e230-4609-8aa9-b3eddac59c8d",
   "metadata": {},
   "outputs": [
    {
     "data": {
      "text/plain": [
       "array([0, 1, 2, 1, 0], dtype=int64)"
      ]
     },
     "execution_count": 141,
     "metadata": {},
     "output_type": "execute_result"
    }
   ],
   "source": [
    "np.argmax(random_array, axis=0)"
   ]
  },
  {
   "cell_type": "code",
   "execution_count": 142,
   "id": "2102627b-3a2b-4b21-b5a6-f18bb89b4e44",
   "metadata": {},
   "outputs": [
    {
     "data": {
      "text/plain": [
       "array([0, 3, 2], dtype=int64)"
      ]
     },
     "execution_count": 142,
     "metadata": {},
     "output_type": "execute_result"
    }
   ],
   "source": [
    "np.argmax(random_array, axis=1)"
   ]
  },
  {
   "cell_type": "markdown",
   "id": "c8f1a2fb-36c9-4899-8c79-c278b0401fd7",
   "metadata": {},
   "source": [
    "## Practical Example - NumPy in Action"
   ]
  },
  {
   "cell_type": "markdown",
   "id": "988e793f-5dd3-4ba4-85df-822d946baa25",
   "metadata": {},
   "source": [
    "<img src='images/panda.png'>"
   ]
  },
  {
   "cell_type": "code",
   "execution_count": 146,
   "id": "a3ecd835-280f-401b-ae99-1454e40d9339",
   "metadata": {},
   "outputs": [
    {
     "data": {
      "text/plain": [
       "numpy.ndarray"
      ]
     },
     "execution_count": 146,
     "metadata": {},
     "output_type": "execute_result"
    }
   ],
   "source": [
    "# Turn an image into a NumPy array\n",
    "from matplotlib.image import imread\n",
    "\n",
    "pandas =imread('./images/panda.png')\n",
    "type(pandas)"
   ]
  },
  {
   "cell_type": "code",
   "execution_count": 148,
   "id": "f9dc4a17-e63a-44c3-a25d-e788462cfbad",
   "metadata": {},
   "outputs": [
    {
     "data": {
      "text/plain": [
       "(24465000, (2330, 3500, 3), 3)"
      ]
     },
     "execution_count": 148,
     "metadata": {},
     "output_type": "execute_result"
    }
   ],
   "source": [
    "pandas.size, pandas.shape, pandas.ndim"
   ]
  },
  {
   "cell_type": "code",
   "execution_count": 150,
   "id": "a73a10d1-bb0b-40ca-8c1a-85a8b36fc7bf",
   "metadata": {},
   "outputs": [
    {
     "data": {
      "text/plain": [
       "array([[[0.05490196, 0.10588235, 0.06666667],\n",
       "        [0.05490196, 0.10588235, 0.06666667],\n",
       "        [0.05490196, 0.10588235, 0.06666667],\n",
       "        ...,\n",
       "        [0.16470589, 0.12941177, 0.09411765],\n",
       "        [0.16470589, 0.12941177, 0.09411765],\n",
       "        [0.16470589, 0.12941177, 0.09411765]],\n",
       "\n",
       "       [[0.05490196, 0.10588235, 0.06666667],\n",
       "        [0.05490196, 0.10588235, 0.06666667],\n",
       "        [0.05490196, 0.10588235, 0.06666667],\n",
       "        ...,\n",
       "        [0.16470589, 0.12941177, 0.09411765],\n",
       "        [0.16470589, 0.12941177, 0.09411765],\n",
       "        [0.16470589, 0.12941177, 0.09411765]],\n",
       "\n",
       "       [[0.05490196, 0.10588235, 0.06666667],\n",
       "        [0.05490196, 0.10588235, 0.06666667],\n",
       "        [0.05490196, 0.10588235, 0.06666667],\n",
       "        ...,\n",
       "        [0.16470589, 0.12941177, 0.09411765],\n",
       "        [0.16470589, 0.12941177, 0.09411765],\n",
       "        [0.16470589, 0.12941177, 0.09411765]],\n",
       "\n",
       "       [[0.05490196, 0.10588235, 0.06666667],\n",
       "        [0.05490196, 0.10588235, 0.06666667],\n",
       "        [0.05490196, 0.10588235, 0.06666667],\n",
       "        ...,\n",
       "        [0.16862746, 0.13333334, 0.09803922],\n",
       "        [0.16862746, 0.13333334, 0.09803922],\n",
       "        [0.16862746, 0.13333334, 0.09803922]],\n",
       "\n",
       "       [[0.05490196, 0.10588235, 0.06666667],\n",
       "        [0.05490196, 0.10588235, 0.06666667],\n",
       "        [0.05490196, 0.10588235, 0.06666667],\n",
       "        ...,\n",
       "        [0.16862746, 0.13333334, 0.09803922],\n",
       "        [0.16862746, 0.13333334, 0.09803922],\n",
       "        [0.16862746, 0.13333334, 0.09803922]]], dtype=float32)"
      ]
     },
     "execution_count": 150,
     "metadata": {},
     "output_type": "execute_result"
    }
   ],
   "source": [
    "pandas[:5]"
   ]
  },
  {
   "cell_type": "markdown",
   "id": "f61f2a98-3700-4046-a579-941ee43523d6",
   "metadata": {},
   "source": [
    "<img src='images/car-photo.png'>"
   ]
  },
  {
   "cell_type": "code",
   "execution_count": 151,
   "id": "75aeec81-f53c-4a58-a8db-7b6786a8b89f",
   "metadata": {},
   "outputs": [
    {
     "data": {
      "text/plain": [
       "numpy.ndarray"
      ]
     },
     "execution_count": 151,
     "metadata": {},
     "output_type": "execute_result"
    }
   ],
   "source": [
    "car = imread('images/car-photo.png')\n",
    "type(car)"
   ]
  },
  {
   "cell_type": "code",
   "execution_count": 156,
   "id": "38aa36d5-62f8-43f9-9203-c5bcc4a21787",
   "metadata": {},
   "outputs": [
    {
     "data": {
      "text/plain": [
       "array([[[0.5019608 , 0.50980395, 0.4862745 , 1.        ],\n",
       "        [0.3372549 , 0.34509805, 0.30588236, 1.        ],\n",
       "        [0.20392157, 0.21568628, 0.14901961, 1.        ],\n",
       "        ...,\n",
       "        [0.64705884, 0.7058824 , 0.54901963, 1.        ],\n",
       "        [0.59607846, 0.63529414, 0.45882353, 1.        ],\n",
       "        [0.44705883, 0.47058824, 0.3372549 , 1.        ]]], dtype=float32)"
      ]
     },
     "execution_count": 156,
     "metadata": {},
     "output_type": "execute_result"
    }
   ],
   "source": [
    "car[:1]"
   ]
  },
  {
   "cell_type": "markdown",
   "id": "ee1df373-0804-4105-b710-2f33a88ed246",
   "metadata": {},
   "source": [
    "<img src='images/dog-photo.png'>"
   ]
  },
  {
   "cell_type": "code",
   "execution_count": 159,
   "id": "2fb26b12-8dfb-4dce-8192-f6b2d79f2352",
   "metadata": {},
   "outputs": [
    {
     "data": {
      "text/plain": [
       "numpy.ndarray"
      ]
     },
     "execution_count": 159,
     "metadata": {},
     "output_type": "execute_result"
    }
   ],
   "source": [
    "dog = imread('images/dog-photo.png')\n",
    "type(dog)"
   ]
  },
  {
   "cell_type": "code",
   "execution_count": null,
   "id": "a5f3c73c-7ee7-46db-8bfd-cc90d97e28fb",
   "metadata": {},
   "outputs": [],
   "source": []
  }
 ],
 "metadata": {
  "kernelspec": {
   "display_name": "Python 3 (ipykernel)",
   "language": "python",
   "name": "python3"
  },
  "language_info": {
   "codemirror_mode": {
    "name": "ipython",
    "version": 3
   },
   "file_extension": ".py",
   "mimetype": "text/x-python",
   "name": "python",
   "nbconvert_exporter": "python",
   "pygments_lexer": "ipython3",
   "version": "3.12.4"
  }
 },
 "nbformat": 4,
 "nbformat_minor": 5
}
